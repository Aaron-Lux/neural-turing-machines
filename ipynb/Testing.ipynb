{
 "metadata": {
  "name": "",
  "signature": "sha256:3bccc96ebf3cc58aacc087a5d2831e93597529f3fb8a02f3505f615fad124630"
 },
 "nbformat": 3,
 "nbformat_minor": 0,
 "worksheets": [
  {
   "cells": [
    {
     "cell_type": "code",
     "collapsed": false,
     "input": [
      "import theano\n",
      "import theano.tensor as T\n",
      "import numpy         as np\n",
      "import sys\n",
      "sys.path.append(\"..\")\n",
      "import controller\n",
      "import model\n",
      "import tasks\n",
      "from theano_toolkit.parameters import Parameters\n",
      "from theano_toolkit import updates\n",
      "from theano_toolkit import utils as U"
     ],
     "language": "python",
     "metadata": {},
     "outputs": [],
     "prompt_number": 6
    },
    {
     "cell_type": "code",
     "collapsed": false,
     "input": [
      "input_size = 8\n",
      "mem_size   = 128\n",
      "mem_width  = 20\n",
      "output_size = input_size\n",
      "hidden_sizes=[100]\n",
      "\n",
      "P = Parameters()\n",
      "\n",
      "ctrl = controller.build(P,input_size,output_size,mem_size,mem_width,hidden_sizes)\n",
      "predict = model.build(P,mem_size,mem_width,input_size,ctrl)\n",
      "\n",
      "input_seq = T.matrix('input_sequence')\n",
      "output_seq = T.matrix('output_sequence')\n",
      "_output_seq = output_seq[-(output_seq.shape[0]/2):]\n",
      "output_seq_pred = predict(input_seq)\n",
      "_output_seq_pred = output_seq_pred[-(output_seq.shape[0]/2):]"
     ],
     "language": "python",
     "metadata": {},
     "outputs": [],
     "prompt_number": 7
    },
    {
     "cell_type": "code",
     "collapsed": false,
     "input": [
      "cost = - T.mean(\n",
      "\t\tT.sum(\n",
      "\t\t\t_output_seq * T.log(_output_seq_pred) +\\\n",
      "\t\t\t(1 - _output_seq)* T.log(1-_output_seq_pred),\n",
      "\t\t\taxis=1\n",
      "\t\t)\n",
      "\t)\n",
      "params = P.values()"
     ],
     "language": "python",
     "metadata": {},
     "outputs": [],
     "prompt_number": 8
    },
    {
     "cell_type": "code",
     "collapsed": false,
     "input": [
      "param_count = 0\n",
      "for p in params:\n",
      "    shape = p.get_value().shape\n",
      "    if len(shape) == 0:\n",
      "        param_count += 1\n",
      "    elif len(shape) == 1:\n",
      "        param_count += shape[0]\n",
      "    else:\n",
      "        param_count += shape[0]*shape[1]\n",
      "print param_count"
     ],
     "language": "python",
     "metadata": {},
     "outputs": [
      {
       "output_type": "stream",
       "stream": "stdout",
       "text": [
        "11089\n"
       ]
      }
     ],
     "prompt_number": 19
    },
    {
     "cell_type": "code",
     "collapsed": false,
     "input": [
      "grads  = T.grad(cost,wrt=params)"
     ],
     "language": "python",
     "metadata": {},
     "outputs": [],
     "prompt_number": 10
    },
    {
     "cell_type": "code",
     "collapsed": false,
     "input": [
      "train = theano.function(\n",
      "        inputs = [input_seq,output_seq],\n",
      "        outputs = cost,\n",
      "        updates = updates.adadelta(params,grads)\n",
      "    )"
     ],
     "language": "python",
     "metadata": {},
     "outputs": [
      {
       "output_type": "stream",
       "stream": "stderr",
       "text": [
        "/usr/lib/python2.7/site-packages/theano/tensor/subtensor.py:114: FutureWarning: comparison to `None` will result in an elementwise object comparison in the future.\n",
        "  stop in [None, length, maxsize] or\n",
        "/usr/lib/python2.7/site-packages/theano/tensor/subtensor.py:110: FutureWarning: comparison to `None` will result in an elementwise object comparison in the future.\n",
        "  start in [None, 0] or\n",
        "/usr/lib/python2.7/site-packages/theano/tensor/opt.py:2165: FutureWarning: comparison to `None` will result in an elementwise object comparison in the future.\n",
        "  if (replace_x == replace_y and\n"
       ]
      },
      {
       "output_type": "stream",
       "stream": "stderr",
       "text": [
        "/usr/lib/python2.7/site-packages/theano/scan_module/scan_perform_ext.py:85: RuntimeWarning: numpy.ndarray size changed, may indicate binary incompatibility\n",
        "  from scan_perform.scan_perform import *\n"
       ]
      }
     ],
     "prompt_number": 11
    },
    {
     "cell_type": "code",
     "collapsed": false,
     "input": [
      "predict = theano.function(\n",
      "    inputs = [input_seq],\n",
      "    outputs = output_seq_pred\n",
      ")"
     ],
     "language": "python",
     "metadata": {},
     "outputs": [],
     "prompt_number": 12
    },
    {
     "cell_type": "code",
     "collapsed": false,
     "input": [
      "prev_vals = { p.name: p.get_value() for p in P.values()}\n",
      "for _ in xrange(100):\n",
      "    inputs,outputs = tasks.copy(input_size,20)\n",
      "    print train(inputs,outputs)"
     ],
     "language": "python",
     "metadata": {},
     "outputs": [
      {
       "output_type": "stream",
       "stream": "stdout",
       "text": [
        "5.02995824814\n",
        "4.75215911865"
       ]
      },
      {
       "output_type": "stream",
       "stream": "stdout",
       "text": [
        "\n",
        "4.86544322968"
       ]
      },
      {
       "output_type": "stream",
       "stream": "stdout",
       "text": [
        "\n",
        "4.84958362579"
       ]
      },
      {
       "output_type": "stream",
       "stream": "stdout",
       "text": [
        "\n",
        "4.80184030533"
       ]
      },
      {
       "output_type": "stream",
       "stream": "stdout",
       "text": [
        "\n",
        "5.32094573975"
       ]
      },
      {
       "output_type": "stream",
       "stream": "stdout",
       "text": [
        "\n",
        "4.84331893921"
       ]
      },
      {
       "output_type": "stream",
       "stream": "stdout",
       "text": [
        "\n",
        "4.87087631226"
       ]
      },
      {
       "output_type": "stream",
       "stream": "stdout",
       "text": [
        "\n",
        "4.76648664474"
       ]
      },
      {
       "output_type": "stream",
       "stream": "stdout",
       "text": [
        "\n",
        "4.95457935333\n",
        "5.94901609421"
       ]
      },
      {
       "output_type": "stream",
       "stream": "stdout",
       "text": [
        "\n",
        "4.57871341705"
       ]
      },
      {
       "output_type": "stream",
       "stream": "stdout",
       "text": [
        "\n",
        "5.11059093475"
       ]
      },
      {
       "output_type": "stream",
       "stream": "stdout",
       "text": [
        "\n",
        "5.06038856506"
       ]
      },
      {
       "output_type": "stream",
       "stream": "stdout",
       "text": [
        "\n",
        "5.04061603546"
       ]
      },
      {
       "output_type": "stream",
       "stream": "stdout",
       "text": [
        "\n",
        "4.88978290558"
       ]
      },
      {
       "output_type": "stream",
       "stream": "stdout",
       "text": [
        "\n",
        "4.77837848663"
       ]
      },
      {
       "output_type": "stream",
       "stream": "stdout",
       "text": [
        "\n",
        "4.92709589005"
       ]
      },
      {
       "output_type": "stream",
       "stream": "stdout",
       "text": [
        "\n",
        "5.0055642128"
       ]
      },
      {
       "output_type": "stream",
       "stream": "stdout",
       "text": [
        "\n",
        "4.95863628387"
       ]
      },
      {
       "output_type": "stream",
       "stream": "stdout",
       "text": [
        "\n",
        "5.09956455231\n",
        "4.90113782883"
       ]
      },
      {
       "output_type": "stream",
       "stream": "stdout",
       "text": [
        "\n",
        "5.2077460289"
       ]
      },
      {
       "output_type": "stream",
       "stream": "stdout",
       "text": [
        "\n",
        "5.27061414719\n",
        "5.00276756287"
       ]
      },
      {
       "output_type": "stream",
       "stream": "stdout",
       "text": [
        "\n",
        "4.64824151993"
       ]
      },
      {
       "output_type": "stream",
       "stream": "stdout",
       "text": [
        "\n",
        "5.07467937469"
       ]
      },
      {
       "output_type": "stream",
       "stream": "stdout",
       "text": [
        "\n",
        "4.70022916794"
       ]
      },
      {
       "output_type": "stream",
       "stream": "stdout",
       "text": [
        "\n",
        "4.76650524139"
       ]
      },
      {
       "output_type": "stream",
       "stream": "stdout",
       "text": [
        "\n",
        "4.91384983063"
       ]
      },
      {
       "output_type": "stream",
       "stream": "stdout",
       "text": [
        "\n",
        "5.063808918\n",
        "4.99085664749"
       ]
      },
      {
       "output_type": "stream",
       "stream": "stdout",
       "text": [
        "\n",
        "4.6870970726"
       ]
      },
      {
       "output_type": "stream",
       "stream": "stdout",
       "text": [
        "\n",
        "4.69624233246\n",
        "5.36311006546"
       ]
      },
      {
       "output_type": "stream",
       "stream": "stdout",
       "text": [
        "\n",
        "4.94105672836"
       ]
      },
      {
       "output_type": "stream",
       "stream": "stdout",
       "text": [
        "\n",
        "5.03136634827"
       ]
      },
      {
       "output_type": "stream",
       "stream": "stdout",
       "text": [
        "\n",
        "4.95806503296\n",
        "4.94238996506"
       ]
      },
      {
       "output_type": "stream",
       "stream": "stdout",
       "text": [
        "\n",
        "5.06373119354"
       ]
      },
      {
       "output_type": "stream",
       "stream": "stdout",
       "text": [
        "\n",
        "4.86489200592"
       ]
      },
      {
       "output_type": "stream",
       "stream": "stdout",
       "text": [
        "\n",
        "5.00284004211"
       ]
      },
      {
       "output_type": "stream",
       "stream": "stdout",
       "text": [
        "\n",
        "4.77950334549"
       ]
      },
      {
       "output_type": "stream",
       "stream": "stdout",
       "text": [
        "\n",
        "4.818318367"
       ]
      },
      {
       "output_type": "stream",
       "stream": "stdout",
       "text": [
        "\n",
        "4.89972734451"
       ]
      },
      {
       "output_type": "stream",
       "stream": "stdout",
       "text": [
        "\n",
        "4.78603029251\n",
        "4.69124746323"
       ]
      },
      {
       "output_type": "stream",
       "stream": "stdout",
       "text": [
        "\n",
        "5.09696245193"
       ]
      },
      {
       "output_type": "stream",
       "stream": "stdout",
       "text": [
        "\n",
        "5.08986091614"
       ]
      },
      {
       "output_type": "stream",
       "stream": "stdout",
       "text": [
        "\n",
        "4.98844432831"
       ]
      },
      {
       "output_type": "stream",
       "stream": "stdout",
       "text": [
        "\n",
        "4.90448331833"
       ]
      },
      {
       "output_type": "stream",
       "stream": "stdout",
       "text": [
        "\n",
        "4.70928192139"
       ]
      },
      {
       "output_type": "stream",
       "stream": "stdout",
       "text": [
        "\n",
        "5.07448291779"
       ]
      },
      {
       "output_type": "stream",
       "stream": "stdout",
       "text": [
        "\n",
        "5.06643342972"
       ]
      },
      {
       "output_type": "stream",
       "stream": "stdout",
       "text": [
        "\n",
        "4.81368255615"
       ]
      },
      {
       "output_type": "stream",
       "stream": "stdout",
       "text": [
        "\n",
        "4.91024255753"
       ]
      },
      {
       "output_type": "stream",
       "stream": "stdout",
       "text": [
        "\n",
        "4.94986009598\n",
        "5.18455791473"
       ]
      },
      {
       "output_type": "stream",
       "stream": "stdout",
       "text": [
        "\n",
        "4.95881938934"
       ]
      },
      {
       "output_type": "stream",
       "stream": "stdout",
       "text": [
        "\n",
        "4.91059589386"
       ]
      },
      {
       "output_type": "stream",
       "stream": "stdout",
       "text": [
        "\n",
        "4.89456892014"
       ]
      },
      {
       "output_type": "stream",
       "stream": "stdout",
       "text": [
        "\n",
        "5.09248209"
       ]
      },
      {
       "output_type": "stream",
       "stream": "stdout",
       "text": [
        "\n",
        "4.91518878937"
       ]
      },
      {
       "output_type": "stream",
       "stream": "stdout",
       "text": [
        "\n",
        "4.83976554871"
       ]
      },
      {
       "output_type": "stream",
       "stream": "stdout",
       "text": [
        "\n",
        "4.8505859375"
       ]
      },
      {
       "output_type": "stream",
       "stream": "stdout",
       "text": [
        "\n",
        "4.94020414352"
       ]
      },
      {
       "output_type": "stream",
       "stream": "stdout",
       "text": [
        "\n",
        "4.80882835388"
       ]
      },
      {
       "output_type": "stream",
       "stream": "stdout",
       "text": [
        "\n",
        "5.01476335526\n",
        "4.91786050797"
       ]
      },
      {
       "output_type": "stream",
       "stream": "stdout",
       "text": [
        "\n",
        "5.14844036102"
       ]
      },
      {
       "output_type": "stream",
       "stream": "stdout",
       "text": [
        "\n",
        "4.95999765396"
       ]
      },
      {
       "output_type": "stream",
       "stream": "stdout",
       "text": [
        "\n",
        "4.82243919373"
       ]
      },
      {
       "output_type": "stream",
       "stream": "stdout",
       "text": [
        "\n",
        "4.79989337921"
       ]
      },
      {
       "output_type": "stream",
       "stream": "stdout",
       "text": [
        "\n",
        "4.90944099426"
       ]
      },
      {
       "output_type": "stream",
       "stream": "stdout",
       "text": [
        "\n",
        "4.57227134705\n",
        "6.13961315155"
       ]
      },
      {
       "output_type": "stream",
       "stream": "stdout",
       "text": [
        "\n",
        "5.0231795311"
       ]
      },
      {
       "output_type": "stream",
       "stream": "stdout",
       "text": [
        "\n",
        "4.9188876152"
       ]
      },
      {
       "output_type": "stream",
       "stream": "stdout",
       "text": [
        "\n",
        "4.75633478165\n",
        "4.83923244476"
       ]
      },
      {
       "output_type": "stream",
       "stream": "stdout",
       "text": [
        "\n",
        "4.92322015762"
       ]
      },
      {
       "output_type": "stream",
       "stream": "stdout",
       "text": [
        "\n",
        "4.75782966614"
       ]
      },
      {
       "output_type": "stream",
       "stream": "stdout",
       "text": [
        "\n",
        "5.1899638176"
       ]
      },
      {
       "output_type": "stream",
       "stream": "stdout",
       "text": [
        "\n",
        "4.88630056381"
       ]
      },
      {
       "output_type": "stream",
       "stream": "stdout",
       "text": [
        "\n",
        "4.92545938492\n",
        "4.8763461113"
       ]
      },
      {
       "output_type": "stream",
       "stream": "stdout",
       "text": [
        "\n",
        "4.83587551117"
       ]
      },
      {
       "output_type": "stream",
       "stream": "stdout",
       "text": [
        "\n",
        "5.3325715065\n",
        "4.68594694138"
       ]
      },
      {
       "output_type": "stream",
       "stream": "stdout",
       "text": [
        "\n",
        "4.98551940918"
       ]
      },
      {
       "output_type": "stream",
       "stream": "stdout",
       "text": [
        "\n",
        "4.7813205719"
       ]
      },
      {
       "output_type": "stream",
       "stream": "stdout",
       "text": [
        "\n",
        "5.06102895737"
       ]
      },
      {
       "output_type": "stream",
       "stream": "stdout",
       "text": [
        "\n",
        "4.86770820618"
       ]
      },
      {
       "output_type": "stream",
       "stream": "stdout",
       "text": [
        "\n",
        "4.89426660538"
       ]
      },
      {
       "output_type": "stream",
       "stream": "stdout",
       "text": [
        "\n",
        "4.76553249359"
       ]
      },
      {
       "output_type": "stream",
       "stream": "stdout",
       "text": [
        "\n",
        "5.11556625366\n",
        "4.90178632736"
       ]
      },
      {
       "output_type": "stream",
       "stream": "stdout",
       "text": [
        "\n",
        "5.01138877869"
       ]
      },
      {
       "output_type": "stream",
       "stream": "stdout",
       "text": [
        "\n",
        "4.85404777527\n",
        "4.84961032867"
       ]
      },
      {
       "output_type": "stream",
       "stream": "stdout",
       "text": [
        "\n"
       ]
      }
     ],
     "prompt_number": 16
    },
    {
     "cell_type": "code",
     "collapsed": false,
     "input": [
      "inputs,outputs = tasks.copy(input_size,20)\n",
      "print inputs\n",
      "print predict(inputs)[-(inputs.shape[0]/2):]"
     ],
     "language": "python",
     "metadata": {},
     "outputs": [
      {
       "output_type": "stream",
       "stream": "stdout",
       "text": [
        "[[ 1.  0.  1.  1.  0.  0.  1.  0.]\n",
        " [ 1.  1.  1.  0.  1.  1.  0.  0.]\n",
        " [ 1.  0.  0.  1.  0.  0.  0.  0.]\n",
        " [ 1.  1.  0.  0.  0.  0.  1.  0.]\n",
        " [ 1.  0.  1.  0.  0.  0.  1.  0.]\n",
        " [ 0.  0.  0.  1.  1.  0.  1.  0.]\n",
        " [ 1.  1.  0.  0.  1.  1.  0.  0.]\n",
        " [ 0.  1.  1.  0.  0.  1.  1.  0.]\n",
        " [ 0.  1.  0.  0.  0.  0.  1.  0.]\n",
        " [ 0.  1.  1.  1.  0.  1.  1.  0.]\n",
        " [ 0.  0.  0.  1.  1.  0.  0.  0.]\n",
        " [ 0.  0.  0.  1.  0.  1.  1.  0.]\n",
        " [ 0.  0.  1.  1.  0.  1.  1.  0.]\n",
        " [ 1.  1.  0.  0.  1.  1.  1.  0.]\n",
        " [ 1.  1.  0.  0.  0.  1.  1.  0.]\n",
        " [ 0.  1.  1.  1.  1.  0.  0.  0.]\n",
        " [ 0.  0.  0.  0.  0.  1.  1.  0.]\n",
        " [ 0.  1.  1.  0.  1.  1.  1.  0.]\n",
        " [ 0.  1.  0.  1.  0.  1.  0.  0.]\n",
        " [ 0.  0.  0.  0.  0.  0.  0.  1.]\n",
        " [ 0.  0.  0.  0.  0.  0.  0.  0.]\n",
        " [ 0.  0.  0.  0.  0.  0.  0.  0.]\n",
        " [ 0.  0.  0.  0.  0.  0.  0.  0.]\n",
        " [ 0.  0.  0.  0.  0.  0.  0.  0.]\n",
        " [ 0.  0.  0.  0.  0.  0.  0.  0.]\n",
        " [ 0.  0.  0.  0.  0.  0.  0.  0.]\n",
        " [ 0.  0.  0.  0.  0.  0.  0.  0.]\n",
        " [ 0.  0.  0.  0.  0.  0.  0.  0.]\n",
        " [ 0.  0.  0.  0.  0.  0.  0.  0.]\n",
        " [ 0.  0.  0.  0.  0.  0.  0.  0.]\n",
        " [ 0.  0.  0.  0.  0.  0.  0.  0.]\n",
        " [ 0.  0.  0.  0.  0.  0.  0.  0.]\n",
        " [ 0.  0.  0.  0.  0.  0.  0.  0.]\n",
        " [ 0.  0.  0.  0.  0.  0.  0.  0.]\n",
        " [ 0.  0.  0.  0.  0.  0.  0.  0.]\n",
        " [ 0.  0.  0.  0.  0.  0.  0.  0.]\n",
        " [ 0.  0.  0.  0.  0.  0.  0.  0.]\n",
        " [ 0.  0.  0.  0.  0.  0.  0.  0.]\n",
        " [ 0.  0.  0.  0.  0.  0.  0.  0.]]\n",
        "[[ 0.51552409  0.51108742  0.37593484  0.55252236  0.39190027  0.52307701\n",
        "   0.60035938  0.00389611]\n",
        " [ 0.5155912   0.51110488  0.37599352  0.5524416   0.39184168  0.52306211\n",
        "   0.6003229   0.00389335]\n",
        " [ 0.51565796  0.51112211  0.37605196  0.55236119  0.39178321  0.52304727\n",
        "   0.60028666  0.00389059]\n",
        " [ 0.51572442  0.51113909  0.37611014  0.55228114  0.39172488  0.52303243\n",
        "   0.60025048  0.00388786]\n",
        " [ 0.51579058  0.51115596  0.37616813  0.55220139  0.39166674  0.5230177\n",
        "   0.6002143   0.00388514]\n",
        " [ 0.5158565   0.51117259  0.37622586  0.552122    0.3916088   0.52300292\n",
        "   0.6001783   0.00388244]\n",
        " [ 0.51592207  0.51118898  0.37628338  0.55204302  0.39155108  0.5229882\n",
        "   0.6001423   0.00387975]\n",
        " [ 0.51598728  0.51120526  0.37634069  0.55196434  0.39149341  0.52297348\n",
        "   0.60010654  0.00387707]\n",
        " [ 0.51605225  0.51122123  0.37639776  0.55188596  0.39143589  0.52295887\n",
        "   0.60007071  0.0038744 ]\n",
        " [ 0.51611692  0.51123703  0.37645459  0.55180806  0.39137876  0.52294421\n",
        "   0.60003507  0.00387175]\n",
        " [ 0.51618129  0.5112527   0.37651122  0.55173033  0.39132163  0.52292973\n",
        "   0.59999949  0.00386912]\n",
        " [ 0.51624537  0.51126814  0.3765676   0.55165315  0.39126468  0.52291512\n",
        "   0.5999639   0.0038665 ]\n",
        " [ 0.51630914  0.5112834   0.37662378  0.5515762   0.3912079   0.52290064\n",
        "   0.5999285   0.00386389]\n",
        " [ 0.51637262  0.51129848  0.37667972  0.55149955  0.39115137  0.5228861\n",
        "   0.59989315  0.0038613 ]\n",
        " [ 0.5164358   0.51131338  0.37673545  0.55142331  0.39109489  0.52287167\n",
        "   0.59985793  0.00385872]\n",
        " [ 0.51649874  0.5113281   0.37679094  0.55134732  0.39103872  0.52285725\n",
        "   0.59982282  0.00385615]\n",
        " [ 0.51656133  0.51134259  0.37684625  0.5512718   0.39098263  0.52284282\n",
        "   0.59978765  0.00385359]\n",
        " [ 0.51662368  0.51135689  0.37690136  0.55119652  0.39092672  0.52282852\n",
        "   0.59975266  0.00385106]\n",
        " [ 0.51668566  0.51137102  0.37695619  0.55112159  0.39087102  0.52281421\n",
        "   0.59971774  0.00384853]]\n"
       ]
      }
     ],
     "prompt_number": 14
    },
    {
     "cell_type": "code",
     "collapsed": false,
     "input": [
      "!cowsay $(fortune)"
     ],
     "language": "python",
     "metadata": {},
     "outputs": [
      {
       "output_type": "stream",
       "stream": "stdout",
       "text": [
        " _______________________________________ \r\n",
        "/ People with narrow minds usually have \\\r\n",
        "\\ broad tongues.                        /\r\n",
        " --------------------------------------- \r\n",
        "        \\   ^__^\r\n",
        "         \\  (oo)\\_______\r\n",
        "            (__)\\       )\\/\\\r\n",
        "                ||----w |\r\n",
        "                ||     ||\r\n"
       ]
      }
     ],
     "prompt_number": 8
    },
    {
     "cell_type": "code",
     "collapsed": false,
     "input": [
      "for k in prev_vals:\n",
      "    if np.sum(P[k].get_value()-prev_vals[k]) == 0: print k"
     ],
     "language": "python",
     "metadata": {},
     "outputs": [
      {
       "output_type": "stream",
       "stream": "stdout",
       "text": [
        "W_input_hidden\n",
        "W_add_gamma\n",
        "W_add_g\n",
        "b_add_key\n"
       ]
      }
     ],
     "prompt_number": 18
    }
   ],
   "metadata": {}
  }
 ]
}